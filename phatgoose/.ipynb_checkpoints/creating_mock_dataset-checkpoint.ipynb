{
 "cells": [
  {
   "cell_type": "code",
   "execution_count": 1,
   "id": "17d87ee6-0592-46da-bcd1-e048949da7ed",
   "metadata": {},
   "outputs": [],
   "source": [
    "import pandas as pd\n",
    "import seaborn as sns\n",
    "from matplotlib import pyplot as plt\n",
    "from pathlib import Path\n",
    "from functools import partial"
   ]
  },
  {
   "cell_type": "code",
   "execution_count": 2,
   "id": "fd8e7dae-7c66-4ace-abc3-fb268dda79c4",
   "metadata": {},
   "outputs": [],
   "source": [
    "ignore_paths = ['twenty_subjects_joint']#, 'baseline_model_200K']"
   ]
  },
  {
   "cell_type": "code",
   "execution_count": 3,
   "id": "6997d0bd-03fa-4916-bba1-9c31818d5bba",
   "metadata": {},
   "outputs": [],
   "source": [
    "df_valid = pd.read_pickle(\"/home/tzahi.gabzi/Projects/Ensemble_V2/ensemble_validation_set.pkl\")\n",
    "df_valid.tar_id = df_valid.tar_id.astype(str)\n",
    "df_valid['subject'] = df_valid.run_path.apply(lambda x: x.split(\"/\")[3].split(\"-\")[0])\n",
    "result_paths = Path(\"/mnt/ML/ModelsTrainResults/yakir.winograd/onboarding/twenty_subject_ctc_ensemble_train_validation_one_gpu/\")\n",
    "filepaths = list(result_paths.glob(\"*/ensemble_validation_set_out_string.pkl\"))\n",
    "columns = []\n",
    "we = []\n",
    "for filepath in filepaths:\n",
    "    column_name = filepath.parent.name\n",
    "    if column_name in ignore_paths:\n",
    "        continue\n",
    "\n",
    "    df = pd.read_pickle(filepath)\n",
    "    df.rename(columns={\"uuid\": \"tar_id\"}, inplace=True)\n",
    "    we.append(df.ctc_we.tolist())\n",
    "    columns.append(f\"{column_name}_we\")\n",
    "tar_ids = df.tar_id.tolist()\n",
    "w = df.ctc_w.tolist()\n",
    "df = pd.DataFrame(we).T\n",
    "df.columns = columns\n",
    "df['w'] = w\n",
    "df['tar_id'] = tar_ids\n",
    "\n",
    "df = df.merge(df_valid[[\"tar_id\", \"instruction_type\", 'subject']], on=\"tar_id\", how=\"left\")\n",
    "we_columns = [col for col in df.columns if \"we\" in col]\n",
    "\n",
    "df = df.melt(id_vars=['subject', 'tar_id', 'w', 'instruction_type'], var_name='Model', value_name='we') \n",
    "df['Model'] = df['Model'].apply(lambda x: x[:-3])\n",
    "df['ModelSubject'] = df['Model'].apply(lambda model_name: ''.join([x.title() for x in model_name.split('_')[:2]]))\n",
    "\n",
    "tar_id_to_lowest_we = df.groupby('tar_id')['we'].min().to_dict()\n",
    "df['lowest_we'] = df['tar_id'].map(tar_id_to_lowest_we)\n",
    "\n",
    "df = df[df['subject'] != df['ModelSubject']]\n",
    "\n",
    "baseline_model_df = df[df['Model'] == 'baseline_model_200K']\n",
    "df = df[df['Model'] != 'baseline_model_200K']\n",
    "\n",
    "tar_id_to_baseline_we = baseline_model_df.set_index('tar_id')['we'].to_dict()\n",
    "\n",
    "df['baseline_we'] = df['tar_id'].map(tar_id_to_baseline_we)\n",
    "\n",
    "df['RouterLabel'] = (df['we'] < df['baseline_we']).astype(int)"
   ]
  },
  {
   "cell_type": "code",
   "execution_count": 9,
   "id": "3dfbdbbd-134a-4419-8678-7b0a373e19d6",
   "metadata": {},
   "outputs": [
    {
     "name": "stdout",
     "output_type": "stream",
     "text": [
      "RouterLabel\n",
      "0    239404\n",
      "1     89040\n",
      "Name: count, dtype: int64\n",
      "RouterLabel\n",
      "1    62091\n",
      "Name: count, dtype: int64\n",
      "RouterLabel\n",
      "1    62091\n",
      "Name: count, dtype: int64\n"
     ]
    }
   ],
   "source": [
    "df_for_dataset = df.copy()\n",
    "\n",
    "dataset_columns = ['tar_id', 'w', 'Model', 'we', 'instruction_type', 'RouterLabel']\n",
    "df_for_dataset = df_for_dataset[dataset_columns]\n",
    "print(df_for_dataset['RouterLabel'].value_counts())\n",
    "\n",
    "max_wer = 0.5\n",
    "df_for_dataset = df_for_dataset[((df_for_dataset['RouterLabel'] == 1) &\n",
    "                                 ((df_for_dataset['we'] / df_for_dataset['w']) < max_wer)) |\n",
    "                                (df_for_dataset['RouterLabel'] == 0)]\n",
    "print(df_for_dataset['RouterLabel'].value_counts())\n",
    "\n",
    "tar_id_has_good_model = df.groupby('tar_id')['RouterLabel'].max() == 1\n",
    "no_good_model_tar_ids = tar_id_has_good_model[~tar_id_has_good_model].index.to_list()\n",
    "df_for_dataset = df_for_dataset[~df_for_dataset['tar_id'].isin(no_good_model_tar_ids)]\n",
    "print(df_for_dataset['RouterLabel'].value_counts())\n",
    "\n",
    "df_for_dataset['input_tensor_path'] = 'DummyString'"
   ]
  },
  {
   "cell_type": "code",
   "execution_count": 5,
   "id": "862b04ab-cee5-4a33-a03a-dd1183e5381a",
   "metadata": {},
   "outputs": [],
   "source": [
    "df_for_dataset.to_pickle('router_dataset_v1.pkl')"
   ]
  },
  {
   "cell_type": "code",
   "execution_count": 7,
   "id": "08c01af5-1afb-4268-8ca9-6996498f9e01",
   "metadata": {},
   "outputs": [
    {
     "data": {
      "text/plain": [
       "RouterLabel\n",
       "0    239404\n",
       "1     89040\n",
       "Name: count, dtype: int64"
      ]
     },
     "execution_count": 7,
     "metadata": {},
     "output_type": "execute_result"
    }
   ],
   "source": []
  },
  {
   "cell_type": "code",
   "execution_count": 47,
   "id": "160d4aaa-388f-4441-ba4e-92dc7b3d6193",
   "metadata": {},
   "outputs": [
    {
     "data": {
      "text/plain": [
       "111938"
      ]
     },
     "execution_count": 47,
     "metadata": {},
     "output_type": "execute_result"
    }
   ],
   "source": [
    "len(df_for_dataset)"
   ]
  }
 ],
 "metadata": {
  "kernelspec": {
   "display_name": "nemoenv",
   "language": "python",
   "name": "nemoenv"
  },
  "language_info": {
   "codemirror_mode": {
    "name": "ipython",
    "version": 3
   },
   "file_extension": ".py",
   "mimetype": "text/x-python",
   "name": "python",
   "nbconvert_exporter": "python",
   "pygments_lexer": "ipython3",
   "version": "3.10.12"
  }
 },
 "nbformat": 4,
 "nbformat_minor": 5
}
